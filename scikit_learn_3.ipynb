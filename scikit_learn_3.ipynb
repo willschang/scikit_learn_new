{
 "cells": [
  {
   "cell_type": "markdown",
   "metadata": {},
   "source": [
    "## 数据标准化（Standardization）与 归一化（Normalization"
   ]
  },
  {
   "cell_type": "code",
   "execution_count": 58,
   "metadata": {},
   "outputs": [
    {
     "data": {
      "image/png": "[encoded data removed]",
      "text/plain": [
       "<Figure size 432x288 with 2 Axes>"
      ]
     },
     "metadata": {},
     "output_type": "display_data"
    }
   ],
   "source": [
    "#%matplotlib inline\n",
    "import matplotlib.pyplot as plt\n",
    "from matplotlib import gridspec\n",
    "import numpy as np\n",
    "from sklearn.preprocessing import StandardScaler\n",
    "from sklearn.preprocessing import MinMaxScaler\n",
    "\n",
    "cps = np.random.uniform(0, 100, (100,2))\n",
    "\n",
    "ss = StandardScaler()\n",
    "std_cps = ss.fit_transform(cps)\n",
    " \n",
    "gs = gridspec.GridSpec(10,19)\n",
    "fig = plt.figure()\n",
    "ax1 = fig.add_subplot(gs[0:6, 0:9])\n",
    "ax2 = fig.add_subplot(gs[0:6, 10:19])\n",
    " \n",
    "ax1.scatter(cps[:, 0], cps[:, 1])\n",
    "ax2.scatter(std_cps[:, 0], std_cps[:, 1])\n",
    " \n",
    "plt.show()\n",
    "# invers_tainsform()方法可以得到原来的数据\n",
    "origin_data = ss.inverse_transform(std_cps)"
   ]
  },
  {
   "cell_type": "code",
   "execution_count": 12,
   "metadata": {},
   "outputs": [
    {
     "name": "stdout",
     "output_type": "stream",
     "text": [
      "data is  [[76.08553789]\n",
      " [47.28199163]\n",
      " [22.24605949]\n",
      " [40.11587039]\n",
      " [65.23566159]\n",
      " [68.44139098]\n",
      " [38.48679709]\n",
      " [25.37592555]\n",
      " [90.45859984]\n",
      " [72.65346614]]\n",
      "after Min Max  [[0.78929004]\n",
      " [0.36702829]\n",
      " [0.        ]\n",
      " [0.26197252]\n",
      " [0.63023019]\n",
      " [0.67722638]\n",
      " [0.2380902 ]\n",
      " [0.04588403]\n",
      " [1.        ]\n",
      " [0.73897565]]\n",
      "origin data is  [[76.08553789]\n",
      " [47.28199163]\n",
      " [22.24605949]\n",
      " [40.11587039]\n",
      " [65.23566159]\n",
      " [68.44139098]\n",
      " [38.48679709]\n",
      " [25.37592555]\n",
      " [90.45859984]\n",
      " [72.65346614]]\n"
     ]
    }
   ],
   "source": [
    "data = np.random.uniform(0, 100, 10)[:, np.newaxis]\n",
    "mm = MinMaxScaler()\n",
    "mm_data = mm.fit_transform(data)\n",
    "origin_data = mm.inverse_transform(mm_data)\n",
    "print('data is ',data)\n",
    "print('after Min Max ',mm_data)\n",
    "print('origin data is ',origin_data)"
   ]
  },
  {
   "cell_type": "code",
   "execution_count": null,
   "metadata": {},
   "outputs": [],
   "source": []
  },
  {
   "cell_type": "code",
   "execution_count": 18,
   "metadata": {},
   "outputs": [
    {
     "data": {
      "text/plain": [
       "array([[ 0.        , -1.22474487,  1.33630621],\n",
       "       [ 1.22474487,  0.        , -0.26726124],\n",
       "       [-1.22474487,  1.22474487, -1.06904497]])"
      ]
     },
     "execution_count": 18,
     "metadata": {},
     "output_type": "execute_result"
    }
   ],
   "source": [
    "# 使用sklearn.preprocessing.StandardScaler类，使用该类的好处在于可以保存训练集中的参数（均值、方差）\n",
    "# 直接使用其对象转换测试集数据\n",
    "from sklearn.preprocessing import StandardScaler, scale\n",
    "import numpy as np \n",
    "\n",
    "X = np.array([[ 1., -1.,  2.],\n",
    "            [ 2.,  0.,  0.],\n",
    "            [ 0.,  1., -1.]])\n",
    "\n",
    "X_scaled = scale(X)\n",
    "\n",
    "X_scaled"
   ]
  },
  {
   "cell_type": "code",
   "execution_count": 19,
   "metadata": {},
   "outputs": [
    {
     "data": {
      "text/plain": [
       "array([0., 0., 0.])"
      ]
     },
     "execution_count": 19,
     "metadata": {},
     "output_type": "execute_result"
    }
   ],
   "source": [
    "X_scaled.mean(axis=0)"
   ]
  },
  {
   "cell_type": "code",
   "execution_count": 20,
   "metadata": {},
   "outputs": [
    {
     "data": {
      "text/plain": [
       "array([1., 1., 1.])"
      ]
     },
     "execution_count": 20,
     "metadata": {},
     "output_type": "execute_result"
    }
   ],
   "source": [
    "X_scaled.std(axis=0)"
   ]
  },
  {
   "cell_type": "code",
   "execution_count": 22,
   "metadata": {},
   "outputs": [
    {
     "data": {
      "text/plain": [
       "StandardScaler(copy=True, with_mean=True, with_std=True)"
      ]
     },
     "execution_count": 22,
     "metadata": {},
     "output_type": "execute_result"
    }
   ],
   "source": [
    "scaler = StandardScaler().fit(X)\n",
    "scaler"
   ]
  },
  {
   "cell_type": "code",
   "execution_count": 29,
   "metadata": {},
   "outputs": [
    {
     "data": {
      "text/plain": [
       "array([1.        , 0.        , 0.33333333])"
      ]
     },
     "execution_count": 29,
     "metadata": {},
     "output_type": "execute_result"
    }
   ],
   "source": [
    "scaler.mean_"
   ]
  },
  {
   "cell_type": "code",
   "execution_count": 28,
   "metadata": {},
   "outputs": [
    {
     "data": {
      "text/plain": [
       "array([0.66666667, 0.66666667, 1.55555556])"
      ]
     },
     "execution_count": 28,
     "metadata": {},
     "output_type": "execute_result"
    }
   ],
   "source": [
    "scaler.var_"
   ]
  },
  {
   "cell_type": "code",
   "execution_count": 26,
   "metadata": {},
   "outputs": [
    {
     "data": {
      "text/plain": [
       "array([[ 0.        , -1.22474487,  1.33630621],\n",
       "       [ 1.22474487,  0.        , -0.26726124],\n",
       "       [-1.22474487,  1.22474487, -1.06904497]])"
      ]
     },
     "execution_count": 26,
     "metadata": {},
     "output_type": "execute_result"
    }
   ],
   "source": [
    "scaler.transform(X)"
   ]
  },
  {
   "cell_type": "code",
   "execution_count": 32,
   "metadata": {},
   "outputs": [
    {
     "data": {
      "text/plain": [
       "array([[ 0.40824829, -0.40824829,  0.81649658],\n",
       "       [ 1.        ,  0.        ,  0.        ],\n",
       "       [ 0.        ,  0.70710678, -0.70710678]])"
      ]
     },
     "execution_count": 32,
     "metadata": {},
     "output_type": "execute_result"
    }
   ],
   "source": [
    "from sklearn.preprocessing import normalize, Normalizer\n",
    "x_nor = [[ 1., -1.,  2.],\n",
    "    [ 2.,  0.,  0.],\n",
    "    [ 0.,  1., -1.]]\n",
    "\n",
    "# preprocessing.normalize()函数对指定数据进行转换\n",
    "x_res = normalize(x_nor, norm='l2')\n",
    "x_res"
   ]
  },
  {
   "cell_type": "code",
   "execution_count": 35,
   "metadata": {},
   "outputs": [
    {
     "data": {
      "text/plain": [
       "array([[ 0.40824829, -0.40824829,  0.81649658],\n",
       "       [ 1.        ,  0.        ,  0.        ],\n",
       "       [ 0.        ,  0.70710678, -0.70710678]])"
      ]
     },
     "execution_count": 35,
     "metadata": {},
     "output_type": "execute_result"
    }
   ],
   "source": [
    "# processing.Normalizer()类实现对训练集和测试集的拟合和转换\n",
    "normalizer = Normalizer().fit(x_nor) \n",
    "\n",
    "# normalizer\n",
    "\n",
    "normalizer.transform(X) "
   ]
  },
  {
   "cell_type": "code",
   "execution_count": null,
   "metadata": {},
   "outputs": [],
   "source": []
  },
  {
   "cell_type": "code",
   "execution_count": null,
   "metadata": {},
   "outputs": [],
   "source": []
  }
 ],
 "metadata": {
  "kernelspec": {
   "display_name": "Python 3",
   "language": "python",
   "name": "python3"
  },
  "language_info": {
   "codemirror_mode": {
    "name": "ipython",
    "version": 3
   },
   "file_extension": ".py",
   "mimetype": "text/x-python",
   "name": "python",
   "nbconvert_exporter": "python",
   "pygments_lexer": "ipython3",
   "version": "3.6.5"
  }
 },
 "nbformat": 4,
 "nbformat_minor": 2
}
