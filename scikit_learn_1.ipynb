{
 "cells": [
  {
   "cell_type": "markdown",
   "metadata": {},
   "source": [
    "## 机器学习 Scikit Learn \n",
    "\n",
    "[scikit learn website](http://scikit-learn.org/stable/documentation.html)\n",
    "\n",
    "[Choosing the right estimator](http://scikit-learn.org/stable/tutorial/machine_learning_map/index.html)\n",
    "\n",
    "* Scikit-learn集成了很多机器学习需要使用的函数，Scikit-learn能简洁、快速写出机器学习程序\n",
    "\n",
    "* scikit-learn简称sklearn，支持包括分类、回归、降维和聚类四大机器学习算法。还包含了特征提取、数据处理和模型评估三大模块。\n",
    "    1. classification分类\n",
    "    2. Regression回归\n",
    "    3. Clustering聚类\n",
    "    4. Dimensionality reduction降维\n",
    "    5. Model selection模型选择\n",
    "    6. Preprocessing预处理\n",
    "\n",
    "<img style=\"float: center;\"  src=\"scikit_learn.png\"  width=\"80%\">\n",
    "\n",
    "* from sklearn.model_selection import train_test_split\n",
    "* from sklearn.preprocessing import StandardScaler\n",
    "* from sklearn.metrics import classification_report\n",
    "* from sklearn.feature_extraction import DictVectorizer 特征转换器\n",
    "* from sklearn.metrics import r2_score, mean_squared_error, mean_absolute_error 从sklearn.metrics依次导入r2_score、mean_squared_error以及mean_absoluate_error用于回归性能的评估\n",
    "\n",
    "```\n",
    "1.sklearn.base: Base classes and utility function基础实用函数\n",
    "2.sklearn.cluster: Clustering聚类\n",
    "3.sklearn.cluster.bicluster: Biclustering 双向聚类\n",
    "4.sklearn.covariance: Covariance Estimators 协方差估计\n",
    "5.sklearn.model_selection: Model Selection 模型选择\n",
    "6.sklearn.datasets: Datasets 数据集\n",
    "7.sklearn.decomposition: Matrix Decomposition 矩阵分解\n",
    "8.sklearn.dummy: Dummy estimators 虚拟估计\n",
    "9.sklearn.ensemble: Ensemble Methods 集成方法\n",
    "10.sklearn.exceptions: Exceptions and warnings 异常和警告\n",
    "11.sklearn.feature_extraction: Feature Extraction 特征抽取\n",
    "12.sklearn.feature_selection: Feature Selection 特征选择\n",
    "13。sklearn.gaussian_process: Gaussian Processes 高斯过程\n",
    "14.sklearn.isotonic: Isotonic regression 保序回归\n",
    "15.sklearn.kernel_approximation: Kernel Approximation 核 逼近\n",
    "16.sklearn.kernel_ridge: Kernel Ridge Regression  岭回归ridge\n",
    "17.sklearn.discriminant_analysis: Discriminant Analysis 判别分析\n",
    "18.sklearn.linear_model: Generalized Linear Models 广义线性模型\n",
    "19.sklearn.manifold: Manifold Learning 流形学习\n",
    "20.sklearn.metrics: Metrics 度量 权值\n",
    "21.sklearn.mixture: Gaussian Mixture Models 高斯混合模型\n",
    "22.sklearn.multiclass: Multiclass and multilabel classification 多等级标签分类\n",
    "23.sklearn.multioutput: Multioutput regression and classification 多元回归和分类\n",
    "24.sklearn.naive_bayes: Naive Bayes 朴素贝叶斯\n",
    "25.sklearn.neighbors: Nearest Neighbors 最近邻\n",
    "26.sklearn.neural_network: Neural network models 神经网络\n",
    "27.sklearn.calibration: Probability Calibration 概率校准\n",
    "28.sklearn.cross_decomposition: Cross decomposition 交叉求解\n",
    "29.sklearn.pipeline: Pipeline 管道\n",
    "30.sklearn.preprocessing: Preprocessing and Normalization 预处理和标准化\n",
    "31.sklearn.random_projection: Random projection 随机映射\n",
    "32.sklearn.semi_supervised: Semi-Supervised Learning 半监督学习\n",
    "33.sklearn.svm: Support Vector Machines 支持向量机\n",
    "34.sklearn.tree: Decision Tree 决策树\n",
    "35.sklearn.utils: Utilities 实用工具\n",
    "```\n",
    "\n",
    "\n",
    "### 机器学习\n",
    "\n",
    "**机器学习**是设计和研究能够根据过去的经验来为未来做决策的软件，它是通过数据进行研究的程序。机器学习的基础是归纳（generalize），就是从已知案例数据中找出未知的规律。\n",
    "\n",
    "一般我们将机器学习的任务分为\n",
    "* 监督学习(Supervised Learning)，关注对事物未知表现的预测，分类问题(Classification)和回归(Regression)\n",
    "* 无监督学习(Unsupervised Learning)，对事物本身特性的分析，聚类（Clustering）和数据降维(Dimensionality Reducting)\n",
    "* 增强学习(Reinforcement Learning)，一个能感知环境的自治agent，怎样通过学习选择能达到其目标的最优动作。\n",
    "\n",
    "\n",
    "* 监督学习问题是，从成对的已经标记好的输入和输出经验数据作为一个输入进行学习，用来预测输出结果，是从有正确答案的例子中学习。\n",
    "    > 监督学习是通过一个输入产生一个带标签的输出的经验数据对中进行学习。\n",
    "    > 监督式机器学习任务就是分类 （classification）和回归（regression）\n",
    "    \n",
    "     * **分类**认为需要学会从若干变量约束条件中预测出目标变量的值，就是必须预测出新观测值的类型，种类或标签。\n",
    "     * **回归问题**需要预测连续变量的数值，比如预测新产品的销量，或者依据工作的描述预算工资水平等。\n",
    "     \n",
    "* 无监督学习是程序不能从已经标记好的数据中学习。它需要在数据中发现一些规律。假如我们获取了人的身高和体重数据，非监督学习的例子就是把数据点分成组别。\n",
    "    > 无监督式机器学习任务是通过训练数据发现相关观测值的组别，称为类（clusters）。主要方式是聚类（clustering），即通过一些相似性度量方法把一些观测值分成同一类。*数据的相似性*\n",
    "    > 降维（Dimensionality reduction）是另一个常见的无监督学习任务。有些问题可能包含成千上万个解释变量，处理起来非常麻烦。另外，有些解释变量属于噪音，也有些完全是无边的变量，这些影响都会降低程序的归纳能力。降维是发现对响应变量影响最大的解释变量的过程。降维可以更容易的实现数据可视化。*对事物特性进行压缩和筛选——数据压缩降维*\n",
    "    \n",
    "    * **聚类应用场景**比如有一些影评数据，聚类算法可以分辨积极的和消极的影评。系统是不能给类加上“积极”或“消极”的标签的；没有监督，系统只能通过相似性度量方法把观测值分成两类。聚类分析的应用场景是用市场产品销售数据为客户分级。\n",
    "\n",
    ">监督学习与非监督学习可以看作机器学习的两端。\n",
    "\n",
    "* 半监督学习，既包含监督数据也有非监督数据，这类问题可以看作是介于监督学习与非监督学习之间的学习。半监督机器学习案例是一种增强学习(Reinforcement Learning)，问题可以通过决策来获得反馈，但是反馈与某一个决策可能没有直接关系。\n",
    "\n",
    "* 增强学习就是将情况映射为行为，也就是去最大化收益。学习者并不是被告知哪种行为将要执行，而是通过尝试学习到最大增益的行为并付诸行动。也就是说增强学习关注的是智能体如何在环境中采取一系列行为，从而获得最大的累积回报。通过增强学习，一个智能体应该知道在什么状态下应该采取什么行为。RL是从环境状态到动作的映射的学习，我们把这个映射称为策略。\n",
    "\n",
    "\n",
    "#### 机器学习三要素：1.模型；2.策略；3.算法\n",
    "* 公式（方法） =    模型  +  策略  +   算法\n",
    "\n",
    "模型、参数、目标函数\n",
    "* 模型 根据不同的业务或使用场景选择合适的模型\n",
    "<img style=\"float: center;\"  src=\"ml_map.png\"  width=\"80%\">\n",
    "\n",
    "* 参数　模型的参数用来让数据更好的适应结果 \n",
    "\n",
    "* 目标函数也为代价函数，\n",
    "**目标是让代价（错误）最小**\n",
    "\n",
    "##### 而如何找到最优解呢，这就需要使用代价函数来求解了:\n",
    "目标函数的求解\n",
    "引出了梯度下降：能够找出cost function函数的最小值； \n",
    "梯度下降原理：将函数比作一座山，我们站在某个山坡上，往四周看，从哪个方向向下走一小步，能够下降的最快；\n",
    "\n",
    "当然解决问题的方法有很多，梯度下降只是其中一个，还有一种方法叫Normal Equation；\n",
    "\n",
    "方法： \n",
    "1. 先确定向下一步的步伐大小，我们称为Learning rate\n",
    "2. 任意给定一个初始值\n",
    "3. 确定一个向下的方向，并向下走预先规定的步伐，并更新\n",
    "4. 当下降的高度小于某个定义的值，则停止下降\n",
    "\n",
    "[机器学习算法地图（下图）　摘自＂SIGAI＂微信公众号]\n",
    "<img style=\"float: center;\"  src=\"machine_learn_map.jpg\"  width=\"80%\">\n",
    "\n",
    "### 性能指标\n",
    "\n",
    "准确率=被识别为该分类的正确分类记录数/被识别为该分类的记录数\n",
    "\n",
    "召回率=被识别为该分类的正确分类记录数/测试集中该分类的记录总数\n",
    "\n",
    "F1-score=2（准确率 * 召回率）/（准确率 + 召回率），F1-score是F-measure（又称F-score）beta=1时的特例\n",
    "\n",
    "support=测试集中该分类的记录总数"
   ]
  },
  {
   "cell_type": "code",
   "execution_count": 7,
   "metadata": {},
   "outputs": [
    {
     "name": "stdout",
     "output_type": "stream",
     "text": [
      "0.19.1\n"
     ]
    }
   ],
   "source": [
    "import sklearn as sk\n",
    "\n",
    "print(sk.__version__)"
   ]
  },
  {
   "cell_type": "markdown",
   "metadata": {},
   "source": [
    "### sklearn 有一些标准的数据集，iris,digits 数据集用于分类，boston house prices 数据集用于回归\n",
    "\n",
    "https://blog.csdn.net/finafily0526/article/details/79318401?utm_source=debugrun&utm_medium=referral\n",
    "\n",
    "\n",
    "#### Iris 数据\n",
    "iris中文指鸢尾植物，这里存储了其萼片和花瓣的长宽，一共4个属性，鸢尾植物又分三类。\n",
    "\n",
    "iris里有两个属性iris.data，iris.target\n",
    "* data里是一个矩阵，每一列代表了萼片或花瓣的长宽，一共4列，每一列代表某个被测量的鸢尾植物，一共采样了150条记录，所以查看这个矩阵的形状iris.data.shape\n",
    "* target是一个数组，存储了data中每条记录属于哪一类鸢尾植物，所以数组的长度是150，数组元素的值因为共有3类鸢尾植物，所以不同值只有3个\n",
    "\n",
    "#### digits 数据\n",
    "digits存储了数字识别的数据，包含了1797条记录，每条记录又是一个8行8列的矩阵，存储的是每幅数字图里的像素点信息，\n",
    "\n",
    "digits.images.shape返回"
   ]
  },
  {
   "cell_type": "code",
   "execution_count": 62,
   "metadata": {},
   "outputs": [
    {
     "name": "stdout",
     "output_type": "stream",
     "text": [
      "(150, 4)\n",
      "dict_keys(['data', 'target', 'target_names', 'DESCR', 'feature_names'])\n",
      "['setosa' 'versicolor' 'virginica']\n"
     ]
    },
    {
     "data": {
      "text/plain": [
       "array([[5.1, 3.5, 1.4, 0.2],\n",
       "       [4.9, 3. , 1.4, 0.2]])"
      ]
     },
     "execution_count": 62,
     "metadata": {},
     "output_type": "execute_result"
    }
   ],
   "source": [
    "from sklearn import datasets\n",
    "import pandas as pd\n",
    "\n",
    "\n",
    "# 加载iris数据集\n",
    "iris = datasets.load_iris() \n",
    "print(iris.data.shape)\n",
    "print(iris.keys())\n",
    "print(iris.target_names)\n",
    "iris.data[:2]"
   ]
  },
  {
   "cell_type": "code",
   "execution_count": 73,
   "metadata": {},
   "outputs": [
    {
     "name": "stdout",
     "output_type": "stream",
     "text": [
      "dict_keys(['data', 'target', 'target_names', 'images', 'DESCR'])\n",
      "(1797, 8, 8)\n"
     ]
    },
    {
     "data": {
      "image/png": "[encoded data removed]",
      "text/plain": [
       "<Figure size 432x432 with 4 Axes>"
      ]
     },
     "metadata": {},
     "output_type": "display_data"
    }
   ],
   "source": [
    "%matplotlib inline\n",
    "from matplotlib import pyplot as plt\n",
    "\n",
    "\n",
    "# 加载digits数据集\n",
    "digits = datasets.load_digits()\n",
    "print(digits.keys())\n",
    "print(digits.images.shape)\n",
    "\"\"\"\n",
    "digits.data　#　元数据集\n",
    "digits.target　#　标签，每个数字的真实类别\n",
    "digits.images[0] # 数据总是二维数组，形状（n_samples,n_features）\n",
    "\"\"\"\n",
    "\n",
    "# 每个数据集都与标签对应，使用zip()函数构成字典\n",
    "images_and_labels = list(zip(digits.images, digits.target))  \n",
    "# 画图\n",
    "plt.figure(figsize=(6,6))\n",
    "for index, (image, label) in enumerate(images_and_labels[:4]):\n",
    "    plt.subplot(2, 4, index + 1)\n",
    "    plt.axis('off')\n",
    "    plt.imshow(image, cmap=plt.cm.gray_r, interpolation='nearest')\n",
    "    plt.title('Training:%i' % label)"
   ]
  },
  {
   "cell_type": "code",
   "execution_count": 74,
   "metadata": {},
   "outputs": [
    {
     "data": {
      "text/plain": [
       "<Figure size 432x288 with 0 Axes>"
      ]
     },
     "metadata": {},
     "output_type": "display_data"
    },
    {
     "data": {
      "image/png": "[encoded data removed]",
      "text/plain": [
       "<Figure size 288x288 with 1 Axes>"
      ]
     },
     "metadata": {},
     "output_type": "display_data"
    }
   ],
   "source": [
    "plt.gray()\n",
    "plt.matshow(digits.images[0])\n",
    "plt.show()"
   ]
  },
  {
   "cell_type": "code",
   "execution_count": 84,
   "metadata": {},
   "outputs": [
    {
     "data": {
      "image/png": "[encoded data removed]",
      "text/plain": [
       "<Figure size 432x288 with 4 Axes>"
      ]
     },
     "metadata": {},
     "output_type": "display_data"
    },
    {
     "name": "stdout",
     "output_type": "stream",
     "text": [
      "number of sample:1797\n",
      "Classification report for classifier \n",
      "SVC(C=1.0, cache_size=200, class_weight=None, coef0=0.0,\n",
      "  decision_function_shape='ovr', degree=3, gamma=0.001, kernel='rbf',\n",
      "  max_iter=-1, probability=False, random_state=None, shrinking=True,\n",
      "  tol=0.001, verbose=False):\n",
      "             precision    recall  f1-score   support\n",
      "\n",
      "          0       1.00      0.99      0.99        88\n",
      "          1       0.99      0.97      0.98        91\n",
      "          2       0.99      0.99      0.99        86\n",
      "          3       0.98      0.87      0.92        91\n",
      "          4       0.99      0.96      0.97        92\n",
      "          5       0.95      0.97      0.96        91\n",
      "          6       0.99      0.99      0.99        91\n",
      "          7       0.96      0.99      0.97        89\n",
      "          8       0.94      1.00      0.97        88\n",
      "          9       0.93      0.98      0.95        92\n",
      "\n",
      "avg / total       0.97      0.97      0.97       899\n",
      "\n",
      "\n",
      "Confusion matrix:\n",
      "[[87  0  0  0  1  0  0  0  0  0]\n",
      " [ 0 88  1  0  0  0  0  0  1  1]\n",
      " [ 0  0 85  1  0  0  0  0  0  0]\n",
      " [ 0  0  0 79  0  3  0  4  5  0]\n",
      " [ 0  0  0  0 88  0  0  0  0  4]\n",
      " [ 0  0  0  0  0 88  1  0  0  2]\n",
      " [ 0  1  0  0  0  0 90  0  0  0]\n",
      " [ 0  0  0  0  0  1  0 88  0  0]\n",
      " [ 0  0  0  0  0  0  0  0 88  0]\n",
      " [ 0  0  0  1  0  1  0  0  0 90]]\n"
     ]
    },
    {
     "data": {
      "image/png": "[encoded data removed]",
      "text/plain": [
       "<Figure size 432x288 with 4 Axes>"
      ]
     },
     "metadata": {},
     "output_type": "display_data"
    }
   ],
   "source": [
    "import matplotlib.pyplot as plt\n",
    "import pylab\n",
    "import numpy as np\n",
    "from sklearn import datasets,svm,metrics\n",
    " \n",
    "digits = datasets.load_digits()\n",
    "\n",
    "\"\"\"\n",
    "#digits: bunch类型\n",
    "print(type(digits))\n",
    " \n",
    "#digits 包含的数据结构，字典类型数据key，value\n",
    "print('digits.keys() = ',digits.keys())\n",
    " \n",
    "#imgaes 是一个三维矩阵1797 张 8 * 8的图片\n",
    "print('digits.images.shape = ',digits.images.shape)\n",
    "print('digits.images[0] = ',digits.images[0])\n",
    "#plt.gray()\n",
    "#plt.matshow(digits.images[0])\n",
    "#plt.show()\n",
    " \n",
    "#data中包含1797个样本，每个样本包括8*8像素的图像，其实就是将8*8 的images按行展开成一行\n",
    "print('digits.data.shape = ',digits.data.shape)\n",
    "print('digits.data[0] = ',digits.data[0])\n",
    " \n",
    "#target 是一个1797维度的Vector，指明每张图片的标签，也就是每张图片代表的数字\n",
    "print('digits.target.shape = ',digits.target.shape)\n",
    "print('digits.target[0] = ',digits.target[0])\n",
    " \n",
    "#数据集中所有标签值,[0,1,2,3,4,5,6,7,8,9]\n",
    "print('digits.target_names.shape = ',digits.target_names.shape)\n",
    "print('digits.target_names = ',digits.target_names)\n",
    " \n",
    "#print('digits.DESCR = ',digits.DESCR)\n",
    "\"\"\"\n",
    "\n",
    "#zip是组合称为一个tuple，然后变成一个列表，即建立training和label的对应关系\n",
    "images_and_labels = list(zip(digits.images, digits.target))\n",
    "for index, (image, label) in enumerate(images_and_labels[:4]):\n",
    "    #subplot的含义是将图分成一个2行4列的区域，然后随着index变化来显示图片\n",
    "    plt.subplot(2, 4, index + 1)\n",
    "    #关掉图像的坐标\n",
    "    plt.axis('off')\n",
    "    #image是要绘制的图像或者数组，cmp是颜色图谱，\n",
    "    plt.imshow(image, cmap=plt.cm.gray_r, interpolation='nearest')\n",
    "    #标题\n",
    "    plt.title('Training: %i' % label)\n",
    "plt.show()\n",
    " \n",
    "n_samples = len(digits.images)\n",
    "print('number of sample:%s'% n_samples)\n",
    "# ８＊８重构成　６４＊１　\n",
    "data = digits.images.reshape((n_samples,-1))\n",
    " \n",
    "# Create a classifier: a support vector classifier\n",
    "classifier = svm.SVC(gamma = 0.001)\n",
    "classifier.fit(data[:int(n_samples/2)],digits.target[:int(n_samples/2)])\n",
    " \n",
    "expected = digits.target[int(n_samples/2):]\n",
    "predicted = classifier.predict(data[int(n_samples/2):])\n",
    " \n",
    "print(\"Classification report for classifier \\n%s:\\n%s\\n\"\n",
    "      % (classifier, metrics.classification_report(expected, predicted)))\n",
    "print(\"Confusion matrix:\\n%s\" % metrics.confusion_matrix(expected, predicted))\n",
    " \n",
    " \n",
    "images_and_predictions = list(zip(digits.images[int(n_samples / 2):],\n",
    "                                  digits.target[int(n_samples/2):], predicted))\n",
    "\n",
    "for index, (image, target, prediction) in enumerate(images_and_predictions[:4]):\n",
    "    plt.subplot(2, 4, index + 5)\n",
    "    plt.axis('off')\n",
    "    plt.imshow(image, cmap=plt.cm.gray_r, interpolation='nearest')\n",
    "    plt.title('Prediction: %i - %i' % (prediction, target))\n",
    "\n",
    "plt.tight_layout()\n",
    "plt.show()\n"
   ]
  },
  {
   "cell_type": "markdown",
   "metadata": {},
   "source": [
    "## 监督学习　分类／回归\n",
    "即根据已有经验知识对未知样本的目标／标记进行预测\n",
    "> 据目标预测变量的类型不同，分为**分类**和**回归**\n",
    "\n",
    "流程顺序：\n",
    "1. 获取数据　\n",
    "2. 抽取所需特征，形成**特征向量(Feature Vectors)** \n",
    "3. 特征向量＋标签数据(Labels)构成模型所需数据格式\n",
    "4. 数据分割成　训练集，测试集，验证集\n",
    "5. 模型训练，评估验证等\n",
    "\n",
    "### 分类\n",
    "* 二分类(Binary Classification)，即判断是非\n",
    "* 多类分类(Multiclass Classification)，多于两个类别中选择一个\n",
    "\n",
    "#### 线性分类器(Linear Classifiers)\n",
    "> 假设特征与分类结果存在某种线性关系\n",
    "\n",
    "$ f(w, x, b) = w^{T} + b $\n",
    "\n",
    "#### 二分类之逻辑回归(Logistic Regression)\n",
    "也被称为对数几率回归\n",
    "\n",
    "逻辑回归（Logistic Regression）是用于处理因变量为分类变量的回归问题，常见的是二分类或二项分布问题，也可以处理多分类问题，它实际上是属于一种分类方法。\n",
    "\n",
    "$ g(z) = \\frac{1}{1+e^{-z}} = g(f(w, x, b)) = \\frac{1} {1+e^{-(w^{T}x+b)}} $\n",
    "\n"
   ]
  },
  {
   "cell_type": "markdown",
   "metadata": {},
   "source": [
    "### 乳腺癌肿瘤数据 预测学习"
   ]
  },
  {
   "cell_type": "code",
   "execution_count": 14,
   "metadata": {},
   "outputs": [
    {
     "name": "stdout",
     "output_type": "stream",
     "text": [
      "数据维度为：　(683, 11)\n"
     ]
    }
   ],
   "source": [
    "# 引入所需包\n",
    "import numpy as np\n",
    "import pandas as pd\n",
    "# 使用sklearn.model_selection里的train_test_split模块用于分割数据。得到 训练/测试数据\n",
    "# http://scikit-learn.org/stable/modules/generated/sklearn.model_selection.train_test_split.html\n",
    "from sklearn.model_selection import train_test_split\n",
    "\n",
    "\n",
    "# 创建特征列表， 每列名称\n",
    "column_names = ['Sample code number', 'Clump Thickness', 'Uniformity of Cell Size', \n",
    "                'Uniformity of Cell Shape', 'Marginal Adhesion', 'Single Epithelial Cell Size', \n",
    "                'Bare Nuclei', 'Bland Chromatin', 'Normal Nucleoli', 'Mitoses', 'Class']\n",
    "\n",
    "# 使用pandas.read_csv函数读取指定数据\n",
    "data = pd.read_csv('data/breast-cancer-wisconsin.csv', names = column_names)\n",
    "\n",
    "# 将?替换为标准缺失值表示，缺失值处理\n",
    "data = data.replace(to_replace='?', value=np.nan)\n",
    "\n",
    "# 丢弃带有缺失值的数据\n",
    "data = data.dropna(how='any')\n",
    "\n",
    "# 输出data的数据量和维度。\n",
    "print('数据维度为：　{}'.format(data.shape))"
   ]
  },
  {
   "cell_type": "code",
   "execution_count": 15,
   "metadata": {},
   "outputs": [
    {
     "data": {
      "text/html": [
       "<div>\n",
       "<style scoped>\n",
       "    .dataframe tbody tr th:only-of-type {\n",
       "        vertical-align: middle;\n",
       "    }\n",
       "\n",
       "    .dataframe tbody tr th {\n",
       "        vertical-align: top;\n",
       "    }\n",
       "\n",
       "    .dataframe thead th {\n",
       "        text-align: right;\n",
       "    }\n",
       "</style>\n",
       "<table border=\"1\" class=\"dataframe\">\n",
       "  <thead>\n",
       "    <tr style=\"text-align: right;\">\n",
       "      <th></th>\n",
       "      <th>Sample code number</th>\n",
       "      <th>Clump Thickness</th>\n",
       "      <th>Uniformity of Cell Size</th>\n",
       "      <th>Uniformity of Cell Shape</th>\n",
       "      <th>Marginal Adhesion</th>\n",
       "      <th>Single Epithelial Cell Size</th>\n",
       "      <th>Bare Nuclei</th>\n",
       "      <th>Bland Chromatin</th>\n",
       "      <th>Normal Nucleoli</th>\n",
       "      <th>Mitoses</th>\n",
       "      <th>Class</th>\n",
       "    </tr>\n",
       "  </thead>\n",
       "  <tbody>\n",
       "    <tr>\n",
       "      <th>0</th>\n",
       "      <td>1000025</td>\n",
       "      <td>5</td>\n",
       "      <td>1</td>\n",
       "      <td>1</td>\n",
       "      <td>1</td>\n",
       "      <td>2</td>\n",
       "      <td>1</td>\n",
       "      <td>3</td>\n",
       "      <td>1</td>\n",
       "      <td>1</td>\n",
       "      <td>2</td>\n",
       "    </tr>\n",
       "    <tr>\n",
       "      <th>1</th>\n",
       "      <td>1002945</td>\n",
       "      <td>5</td>\n",
       "      <td>4</td>\n",
       "      <td>4</td>\n",
       "      <td>5</td>\n",
       "      <td>7</td>\n",
       "      <td>10</td>\n",
       "      <td>3</td>\n",
       "      <td>2</td>\n",
       "      <td>1</td>\n",
       "      <td>2</td>\n",
       "    </tr>\n",
       "    <tr>\n",
       "      <th>2</th>\n",
       "      <td>1015425</td>\n",
       "      <td>3</td>\n",
       "      <td>1</td>\n",
       "      <td>1</td>\n",
       "      <td>1</td>\n",
       "      <td>2</td>\n",
       "      <td>2</td>\n",
       "      <td>3</td>\n",
       "      <td>1</td>\n",
       "      <td>1</td>\n",
       "      <td>2</td>\n",
       "    </tr>\n",
       "    <tr>\n",
       "      <th>3</th>\n",
       "      <td>1016277</td>\n",
       "      <td>6</td>\n",
       "      <td>8</td>\n",
       "      <td>8</td>\n",
       "      <td>1</td>\n",
       "      <td>3</td>\n",
       "      <td>4</td>\n",
       "      <td>3</td>\n",
       "      <td>7</td>\n",
       "      <td>1</td>\n",
       "      <td>2</td>\n",
       "    </tr>\n",
       "    <tr>\n",
       "      <th>4</th>\n",
       "      <td>1017023</td>\n",
       "      <td>4</td>\n",
       "      <td>1</td>\n",
       "      <td>1</td>\n",
       "      <td>3</td>\n",
       "      <td>2</td>\n",
       "      <td>1</td>\n",
       "      <td>3</td>\n",
       "      <td>1</td>\n",
       "      <td>1</td>\n",
       "      <td>2</td>\n",
       "    </tr>\n",
       "  </tbody>\n",
       "</table>\n",
       "</div>"
      ],
      "text/plain": [
       "   Sample code number  Clump Thickness  Uniformity of Cell Size  \\\n",
       "0             1000025                5                        1   \n",
       "1             1002945                5                        4   \n",
       "2             1015425                3                        1   \n",
       "3             1016277                6                        8   \n",
       "4             1017023                4                        1   \n",
       "\n",
       "   Uniformity of Cell Shape  Marginal Adhesion  Single Epithelial Cell Size  \\\n",
       "0                         1                  1                            2   \n",
       "1                         4                  5                            7   \n",
       "2                         1                  1                            2   \n",
       "3                         8                  1                            3   \n",
       "4                         1                  3                            2   \n",
       "\n",
       "  Bare Nuclei  Bland Chromatin  Normal Nucleoli  Mitoses  Class  \n",
       "0           1                3                1        1      2  \n",
       "1          10                3                2        1      2  \n",
       "2           2                3                1        1      2  \n",
       "3           4                3                7        1      2  \n",
       "4           1                3                1        1      2  "
      ]
     },
     "execution_count": 15,
     "metadata": {},
     "output_type": "execute_result"
    }
   ],
   "source": [
    "# 查看一下数据内容，前５条数据　head()\n",
    "data.head(5)"
   ]
  },
  {
   "cell_type": "code",
   "execution_count": 20,
   "metadata": {},
   "outputs": [
    {
     "data": {
      "text/plain": [
       "2    323\n",
       "4    189\n",
       "Name: Class, dtype: int64"
      ]
     },
     "execution_count": 20,
     "metadata": {},
     "output_type": "execute_result"
    }
   ],
   "source": [
    "# 随机采样25%的数据用于测试，剩下的75%用于构建训练集合\n",
    "X_train, X_test, y_train, y_test = train_test_split(data[column_names[1:10]], data[column_names[10]], \n",
    "                                                    test_size=0.25, random_state=25)\n",
    "# 查验训练样本的数量和类别分布\n",
    "y_train.value_counts()"
   ]
  },
  {
   "cell_type": "code",
   "execution_count": 21,
   "metadata": {},
   "outputs": [
    {
     "data": {
      "text/plain": [
       "2    121\n",
       "4     50\n",
       "Name: Class, dtype: int64"
      ]
     },
     "execution_count": 21,
     "metadata": {},
     "output_type": "execute_result"
    }
   ],
   "source": [
    "# 查验测试样本的数量和类别分布。\n",
    "y_test.value_counts()"
   ]
  },
  {
   "cell_type": "code",
   "execution_count": 28,
   "metadata": {},
   "outputs": [
    {
     "name": "stdout",
     "output_type": "stream",
     "text": [
      "Accuracy of LR Classifier: 0.9649122807017544\n",
      "             precision    recall  f1-score   support\n",
      "\n",
      "     Benign       0.99      0.96      0.97       121\n",
      "  Malignant       0.91      0.98      0.94        50\n",
      "\n",
      "avg / total       0.97      0.96      0.97       171\n",
      "\n",
      "Accuarcy of SGD Classifier: 0.9532163742690059\n",
      "             precision    recall  f1-score   support\n",
      "\n",
      "     Benign       0.99      0.94      0.97       121\n",
      "  Malignant       0.88      0.98      0.92        50\n",
      "\n",
      "avg / total       0.96      0.95      0.95       171\n",
      "\n"
     ]
    }
   ],
   "source": [
    "# 引入 线性分类 进行预测\n",
    "# 数据先做 标准化处理\n",
    "from sklearn.preprocessing import StandardScaler\n",
    "# 引入 逻辑回归 与 随机梯度分类器\n",
    "from sklearn.linear_model import LogisticRegression \n",
    "from sklearn.linear_model.stochastic_gradient import SGDClassifier\n",
    "# 从sklearn.metrics里导入classification_report模块。\n",
    "from sklearn.metrics import classification_report\n",
    "\n",
    "# 标准化数据，保证每个维度的特征数据方差为1，均值为0。使得预测结果不会被某些维度过大的特征值而主导。\n",
    "ss = StandardScaler()\n",
    "X_train = ss.fit_transform(X_train)\n",
    "X_test = ss.transform(X_test)\n",
    "\n",
    "# 实例化分类器\n",
    "lr = LogisticRegression()\n",
    "sgdc = SGDClassifier(max_iter=5, tol=None)\n",
    "\"\"\"\n",
    "fit(X,y):训练数据\n",
    "predict(T):预测数据\n",
    "\"\"\"\n",
    "# 调用LogisticRegression中的fit函数/模块用来训练模型参数。\n",
    "lr.fit(X_train, y_train)\n",
    "# 使用训练好的模型lr对X_test进行预测，结果储存在变量lr_y_predict中。\n",
    "lr_y_predict = lr.predict(X_test)\n",
    "\n",
    "# 调用SGDClassifier中的fit函数/模块用来训练模型参数。\n",
    "sgdc.fit(X_train, y_train)\n",
    "# 使用训练好的模型sgdc对X_test进行预测，结果储存在变量sgdc_y_predict中。\n",
    "sgdc_y_predict = sgdc.predict(X_test)\n",
    "\n",
    "# 使用逻辑斯蒂回归模型自带的评分函数score获得模型在测试集上的准确性结果。\n",
    "print('Accuracy of LR Classifier:', lr.score(X_test, y_test))\n",
    "# 利用classification_report模块获得LogisticRegression其他三个指标的结果。\n",
    "print(classification_report(y_test, lr_y_predict, target_names=['Benign', 'Malignant']))\n",
    "\n",
    "# 使用随机梯度下降模型自带的评分函数score获得模型在测试集上的准确性结果。\n",
    "print('Accuarcy of SGD Classifier:', sgdc.score(X_test, y_test))\n",
    "# 利用classification_report模块获得SGDClassifier其他三个指标的结果。\n",
    "print(classification_report(y_test, sgdc_y_predict, target_names=['Benign', 'Malignant']))"
   ]
  },
  {
   "cell_type": "markdown",
   "metadata": {},
   "source": [
    "### 字体识别案例"
   ]
  },
  {
   "cell_type": "code",
   "execution_count": 85,
   "metadata": {},
   "outputs": [
    {
     "data": {
      "text/plain": [
       "(1797, 64)"
      ]
     },
     "execution_count": 85,
     "metadata": {},
     "output_type": "execute_result"
    }
   ],
   "source": [
    "# 导入数据\n",
    "%matplotlib inline\n",
    "import matplotlib.pyplot as plt\n",
    "from sklearn.datasets import load_digits\n",
    "\n",
    "digits = load_digits()\n",
    "\n",
    "digits.data.shape"
   ]
  },
  {
   "cell_type": "code",
   "execution_count": 86,
   "metadata": {},
   "outputs": [
    {
     "name": "stdout",
     "output_type": "stream",
     "text": [
      "(1347,)\n",
      "(450,)\n"
     ]
    }
   ],
   "source": [
    "from sklearn.model_selection import train_test_split\n",
    "\n",
    "# 随机选取75%的数据作为训练样本；其余25%的数据作为测试样本。\n",
    "X_train, X_test, y_train, y_test = train_test_split(digits.data, digits.target, test_size=0.25, random_state=33)\n",
    "\n",
    "# 查看数据情况\n",
    "print(y_train.shape)\n",
    "print(y_test.shape)"
   ]
  },
  {
   "cell_type": "code",
   "execution_count": 87,
   "metadata": {},
   "outputs": [
    {
     "name": "stdout",
     "output_type": "stream",
     "text": [
      "The Accuracy of Linear SVC is 0.9533333333333334\n"
     ]
    }
   ],
   "source": [
    "# 从sklearn.preprocessing里导入数据标准化模块。\n",
    "from sklearn.preprocessing import StandardScaler\n",
    "\n",
    "# 从sklearn.svm里导入基于线性假设的支持向量机分类器LinearSVC。\n",
    "from sklearn.svm import LinearSVC\n",
    "\n",
    "# 对训练和测试的特征数据进行标准化\n",
    "ss = StandardScaler()\n",
    "X_train = ss.fit_transform(X_train)\n",
    "X_test = ss.transform(X_test)\n",
    "\n",
    "# 线性假设的支持向量机分类器LinearSVC。\n",
    "lsvc = LinearSVC()\n",
    "#进行模型训练\n",
    "lsvc.fit(X_train, y_train)\n",
    "# 利用训练好的模型对测试样本的数字类别进行预测，预测结果储存在变量y_predict中\n",
    "y_predict = lsvc.predict(X_test)\n",
    "\n",
    "# 使用模型自带的评估函数进行准确性测评。\n",
    "print('The Accuracy of Linear SVC is', lsvc.score(X_test, y_test))"
   ]
  },
  {
   "cell_type": "code",
   "execution_count": 88,
   "metadata": {},
   "outputs": [
    {
     "name": "stdout",
     "output_type": "stream",
     "text": [
      "             precision    recall  f1-score   support\n",
      "\n",
      "          0       0.92      1.00      0.96        35\n",
      "          1       0.96      0.98      0.97        54\n",
      "          2       0.98      1.00      0.99        44\n",
      "          3       0.93      0.93      0.93        46\n",
      "          4       0.97      1.00      0.99        35\n",
      "          5       0.94      0.94      0.94        48\n",
      "          6       0.96      0.98      0.97        51\n",
      "          7       0.92      1.00      0.96        35\n",
      "          8       0.98      0.84      0.91        58\n",
      "          9       0.95      0.91      0.93        44\n",
      "\n",
      "avg / total       0.95      0.95      0.95       450\n",
      "\n"
     ]
    }
   ],
   "source": [
    "# sklearn.metrics里面的classification_report模块对预测结果做更加详细的分析, 精确率，召回率，F1值\n",
    "from sklearn.metrics import classification_report\n",
    "print(classification_report(y_test, y_predict, target_names=digits.target_names.astype(str)))"
   ]
  },
  {
   "cell_type": "code",
   "execution_count": 95,
   "metadata": {},
   "outputs": [
    {
     "data": {
      "image/png": "[encoded data removed]",
      "text/plain": [
       "<Figure size 576x432 with 4 Axes>"
      ]
     },
     "metadata": {},
     "output_type": "display_data"
    }
   ],
   "source": [
    "images_and_predictions = list(zip(X_test,\n",
    "                                  y_test, y_predict))\n",
    "plt.figure(figsize=(8, 6))\n",
    "for index, (image, target, prediction) in enumerate(images_and_predictions[-4:]):\n",
    "    plt.subplot(2, 4, index + 1)\n",
    "    plt.axis('off')\n",
    "    plt.imshow(image.reshape((8,8)), cmap=plt.cm.gray_r, interpolation='nearest')\n",
    "    plt.title('Prediction: %i - %i' % (prediction, target))\n",
    "\n",
    "plt.tight_layout()\n",
    "plt.show()"
   ]
  },
  {
   "cell_type": "markdown",
   "metadata": {},
   "source": [
    "### 新闻文本分类\n",
    "\n",
    "文本数据，既没有设定特征也没有数字的量度．\n",
    "\n",
    "思考如何构建特征向量\n",
    "\n",
    "```python\n",
    "##函数原型是这样的。\n",
    "\n",
    "fetch_20newsgroups(data_home=None,subset='train',categories=None,shuffle=True,random_state=42,remove=(),download_if_missing=True)\n",
    "\"\"\"\n",
    "data_home指的是数据集的地址，如果默认的话，所有的数据都会在'~/scikit_learn_data'文件夹下.\n",
    "\n",
    "subset就是train,test,all三种可选，分别对应训练集、测试集和所有样本。\n",
    "\n",
    "categories:是指类别，如果指定类别，就会只提取出目标类，如果是默认，则是提取所有类别出来。\n",
    "\n",
    "shuffle:是否打乱样本顺序，如果是相互独立的话。\n",
    "\n",
    "random_state:打乱顺序的随机种子\n",
    "\n",
    "remove:是一个元组，用来去除一些停用词的，例如标题引用之类的。\n",
    "\n",
    "download_if_missing: 如果数据缺失，是否去下载。\n",
    "\"\"\"\n",
    "```"
   ]
  },
  {
   "cell_type": "code",
   "execution_count": 103,
   "metadata": {},
   "outputs": [
    {
     "name": "stdout",
     "output_type": "stream",
     "text": [
      "18846\n",
      "From: Mamatha Devineni Ratnam <mr47+@andrew.cmu.edu>\n",
      "Subject: Pens fans reactions\n",
      "Organization: Post\n",
      "The accuracy of Naive Bayes Classifier is 0.8397707979626485\n",
      "                          precision    recall  f1-score   support\n",
      "\n",
      "             alt.atheism       0.86      0.86      0.86       201\n",
      "           comp.graphics       0.59      0.86      0.70       250\n",
      " comp.os.ms-windows.misc       0.89      0.10      0.17       248\n",
      "comp.sys.ibm.pc.hardware       0.60      0.88      0.72       240\n",
      "   comp.sys.mac.hardware       0.93      0.78      0.85       242\n",
      "          comp.windows.x       0.82      0.84      0.83       263\n",
      "            misc.forsale       0.91      0.70      0.79       257\n",
      "               rec.autos       0.89      0.89      0.89       238\n",
      "         rec.motorcycles       0.98      0.92      0.95       276\n",
      "      rec.sport.baseball       0.98      0.91      0.95       251\n",
      "        rec.sport.hockey       0.93      0.99      0.96       233\n",
      "               sci.crypt       0.86      0.98      0.91       238\n",
      "         sci.electronics       0.85      0.88      0.86       249\n",
      "                 sci.med       0.92      0.94      0.93       245\n",
      "               sci.space       0.89      0.96      0.92       221\n",
      "  soc.religion.christian       0.78      0.96      0.86       232\n",
      "      talk.politics.guns       0.88      0.96      0.92       251\n",
      "   talk.politics.mideast       0.90      0.98      0.94       231\n",
      "      talk.politics.misc       0.79      0.89      0.84       188\n",
      "      talk.religion.misc       0.93      0.44      0.60       158\n",
      "\n",
      "             avg / total       0.86      0.84      0.82      4712\n",
      "\n"
     ]
    }
   ],
   "source": [
    "from sklearn.model_selection import train_test_split\n",
    "# 从sklearn.datasets里导入新闻数据抓取器fetch_20newsgroups。\n",
    "from sklearn.datasets import fetch_20newsgroups\n",
    "# 从sklearn.metrics里导入classification_report用于详细的分类性能报告。\n",
    "from sklearn.metrics import classification_report\n",
    "# 从sklearn.feature_extraction.text里导入用于文本特征向量转化模块。详细介绍请读者参考3.1.1.1 特征抽取一节。\n",
    "from sklearn.feature_extraction.text import CountVectorizer\n",
    "\n",
    "\n",
    "# 与之前预存的数据不同，fetch_20newsgroups需要即时从互联网下载数据。\n",
    "news = fetch_20newsgroups(subset='all')\n",
    "# 查验数据规模和细节。\n",
    "print(len(news.data))\n",
    "print(news.data[0][:100])\n",
    "\n",
    "# 随机采样25%的数据样本作为测试集。\n",
    "X_train, X_test, y_train, y_test = train_test_split(news.data, news.target, test_size=0.25, random_state=33)\n",
    "\n",
    "vec = CountVectorizer()\n",
    "X_train = vec.fit_transform(X_train)\n",
    "X_test = vec.transform(X_test)\n",
    "\n",
    "# 从sklearn.naive_bayes里导入朴素贝叶斯模型。\n",
    "from sklearn.naive_bayes import MultinomialNB\n",
    "\n",
    "# 从使用默认配置初始化朴素贝叶斯模型。\n",
    "mnb = MultinomialNB()\n",
    "# 利用训练数据对模型参数进行估计。\n",
    "mnb.fit(X_train, y_train)\n",
    "# 对测试样本进行类别预测，结果存储在变量y_predict中。\n",
    "y_predict = mnb.predict(X_test)\n",
    "\n",
    "print('The accuracy of Naive Bayes Classifier is', mnb.score(X_test, y_test))\n",
    "print(classification_report(y_test, y_predict, target_names = news.target_names))"
   ]
  },
  {
   "cell_type": "code",
   "execution_count": 98,
   "metadata": {},
   "outputs": [],
   "source": []
  },
  {
   "cell_type": "code",
   "execution_count": 108,
   "metadata": {},
   "outputs": [
    {
     "name": "stdout",
     "output_type": "stream",
     "text": [
      "(150, 4)\n",
      "The accuracy of K-Nearest Neighbor Classifier is 0.8947368421052632\n",
      "             precision    recall  f1-score   support\n",
      "\n",
      "     setosa       1.00      1.00      1.00        12\n",
      " versicolor       0.81      0.93      0.87        14\n",
      "  virginica       0.90      0.75      0.82        12\n",
      "\n",
      "avg / total       0.90      0.89      0.89        38\n",
      "\n"
     ]
    }
   ],
   "source": [
    "# 从sklearn.datasets 导入 iris数据加载器。\n",
    "from sklearn.datasets import load_iris\n",
    "# 从sklearn.model_selection里选择导入train_test_split用于数据分割。\n",
    "from sklearn.model_selection import train_test_split\n",
    "# 从sklearn.preprocessing里选择导入数据标准化模块。\n",
    "from sklearn.preprocessing import StandardScaler\n",
    "# 从sklearn.neighbors里选择导入KNeighborsClassifier，即K近邻分类器。\n",
    "from sklearn.neighbors import KNeighborsClassifier\n",
    "# sklearn.metrics里面的classification_report模块对预测结果做更加详细的分析\n",
    "from sklearn.metrics import classification_report\n",
    "\n",
    "\n",
    "# 使用加载器读取数据并且存入变量iris。\n",
    "iris = load_iris()\n",
    "# 查验数据规模。\n",
    "print(iris.data.shape)\n",
    "\n",
    "# 查看数据说明\n",
    "# print(iris.DESCR)\n",
    "# 从使用train_test_split，利用随机种子random_state 采样25%的数据作为测试集。\n",
    "X_train, X_test, y_train, y_test = train_test_split(iris.data, iris.target, test_size=0.25, random_state=20)\n",
    "\n",
    "# 对训练和测试的特征数据进行标准化。\n",
    "ss = StandardScaler()\n",
    "X_train = ss.fit_transform(X_train)\n",
    "X_test = ss.transform(X_test)\n",
    "\n",
    "# 使用K近邻分类器对测试数据进行类别预测，预测结果储存在变量y_predict中。\n",
    "knc = KNeighborsClassifier()\n",
    "knc.fit(X_train, y_train)\n",
    "y_predict = knc.predict(X_test)\n",
    "\n",
    "# 使用模型自带的评估函数进行准确性测评。\n",
    "print('The accuracy of K-Nearest Neighbor Classifier is', knc.score(X_test, y_test))\n",
    "# classification_report模块对预测结果做更加详细的分析\n",
    "print(classification_report(y_test, y_predict, target_names=iris.target_names))"
   ]
  },
  {
   "cell_type": "markdown",
   "metadata": {},
   "source": [
    "## 回归预测\n",
    "\n",
    "**预测的目标是连续变量**\n",
    "\n",
    "\n"
   ]
  },
  {
   "cell_type": "markdown",
   "metadata": {},
   "source": [
    "### 波士顿房价预测"
   ]
  },
  {
   "cell_type": "code",
   "execution_count": 141,
   "metadata": {},
   "outputs": [
    {
     "name": "stdout",
     "output_type": "stream",
     "text": [
      "The max target value is 50.0\n",
      "The min target value is 5.0\n",
      "The average target value is 22.532806324110677\n",
      "The value of default measurement of LinearRegression is 0.6763403830998702\n",
      "The value of R-squared of LinearRegression is 0.6763403830998702\n",
      "The mean squared error of LinearRegression is 25.096985692067722\n",
      "The mean absoluate error of LinearRegression is 3.5261239963985425\n"
     ]
    },
    {
     "data": {
      "image/png": "[encoded data removed]",
      "text/plain": [
       "<Figure size 432x288 with 1 Axes>"
      ]
     },
     "metadata": {},
     "output_type": "display_data"
    }
   ],
   "source": [
    "import numpy as np\n",
    "# 从sklearn.datasets导入波士顿房价数据读取器\n",
    "from sklearn.datasets import load_boston\n",
    "# 从sklearn.model_selection 导入数据分割器\n",
    "from sklearn.model_selection import train_test_split\n",
    "# 从sklearn.preprocessing导入数据标准化模块\n",
    "from sklearn.preprocessing import StandardScaler\n",
    "#　线性回归\n",
    "from sklearn.linear_model import LinearRegression\n",
    "# 从sklearn.linear_model导入SGDRegressor。\n",
    "from sklearn.linear_model.stochastic_gradient import SGDRegressor\n",
    "# 从sklearn.metrics依次导入r2_score、mean_squared_error以及mean_absoluate_error用于回归性能的评估\n",
    "from sklearn.metrics import r2_score, mean_squared_error, mean_absolute_error\n",
    "\n",
    "\n",
    "\n",
    "# 从读取房价数据存储在变量boston中。\n",
    "boston = load_boston()\n",
    "# 输出数据描述。\n",
    "# print(boston.DESCR)\n",
    "\n",
    "X = boston.data\n",
    "y = boston.target\n",
    "# y = column_or_1d(y, warn=True)\n",
    "\n",
    "# 随机采样25%的数据构建测试样本，其余作为训练样本\n",
    "X_train, X_test, y_train, y_test = train_test_split(X, y, random_state=33, test_size=0.25)\n",
    "\n",
    "\n",
    "# 分析回归目标值的差异 ==> 值域差异较大，需对特征进行　标准化处理\n",
    "print(\"The max target value is\", np.max(boston.target))\n",
    "print(\"The min target value is\", np.min(boston.target))\n",
    "print(\"The average target value is\", np.mean(boston.target))\n",
    "\n",
    "\n",
    "# 分别初始化对特征和目标值的标准化器\n",
    "ss_X = StandardScaler()\n",
    "ss_y = StandardScaler()\n",
    "\n",
    "# 分别对训练和测试数据的特征以及目标值进行标准化处理 ==> \n",
    "X_train = ss_X.fit_transform(X_train)\n",
    "X_test = ss_X.transform(X_test)\n",
    "\n",
    "y_train = ss_y.fit_transform(y_train.reshape(-1,1))\n",
    "y_test = ss_y.transform(y_test.reshape(-1,1))\n",
    "\n",
    "# 线性回归进行预测\n",
    "lr = LinearRegression()\n",
    "# 处理不平衡数据   提醒是要对预测输出y做出ravel()转换\n",
    "lr.fit(X_train, y_train.ravel())\n",
    "lr_y_predict = lr.predict(X_test)\n",
    "\n",
    "\n",
    "# 使用默认配置初始化线性回归器SGDRegressor\n",
    "sgdr = SGDRegressor(max_iter=5)\n",
    "# 使用训练数据进行参数估计\n",
    "sgdr.fit(X_train, y_train.ravel())\n",
    "# 对测试数据进行回归预测\n",
    "sgdr_y_predict = sgdr.predict(X_test)\n",
    "\n",
    "# 使用LinearRegression模型自带的评估模块，并输出评估结果。\n",
    "print('The value of default measurement of LinearRegression is', lr.score(X_test, y_test))\n",
    "\n",
    "# 使用r2_score模块，并输出评估结果。\n",
    "print('The value of R-squared of LinearRegression is', r2_score(y_test, lr_y_predict))\n",
    "\n",
    "# 使用mean_squared_error模块，并输出评估结果。\n",
    "print('The mean squared error of LinearRegression is', \n",
    "      mean_squared_error(ss_y.inverse_transform(y_test), ss_y.inverse_transform(lr_y_predict)))\n",
    "\n",
    "# 使用mean_absolute_error模块，并输出评估结果。\n",
    "print('The mean absoluate error of LinearRegression is', \n",
    "      mean_absolute_error(ss_y.inverse_transform(y_test), ss_y.inverse_transform(lr_y_predict)))\n",
    "\n",
    "plt.scatter(lr_y_predict, y_test, s=2)\n",
    "plt.plot(lr_y_predict, lr_y_predict, 'r-')\n",
    "plt.plot([y.min(), y.max()], [y.min(), y.max()], 'b--', lw=4)\n",
    "plt.ylabel(\"Predieted Price\")\n",
    "plt.xlabel(\"Real Price\")\n",
    "plt.show()"
   ]
  },
  {
   "cell_type": "code",
   "execution_count": 142,
   "metadata": {},
   "outputs": [
    {
     "data": {
      "image/png": "[encoded data removed]",
      "text/plain": [
       "<Figure size 432x288 with 1 Axes>"
      ]
     },
     "metadata": {},
     "output_type": "display_data"
    }
   ],
   "source": [
    "from sklearn import datasets\n",
    "from sklearn.model_selection import cross_val_predict\n",
    "from sklearn import linear_model\n",
    "import matplotlib.pyplot as plt\n",
    "\n",
    "lr = linear_model.LinearRegression()\n",
    "boston = datasets.load_boston()\n",
    "y = boston.target\n",
    "\n",
    "# cross_val_predict returns an array of the same size as `y` where each entry\n",
    "# is a prediction obtained by cross validation:\n",
    "predicted = cross_val_predict(lr, boston.data, y, cv=10)\n",
    "\n",
    "fig, ax = plt.subplots()\n",
    "ax.scatter(y, predicted, edgecolors=(0, 0, 0))\n",
    "ax.plot([y.min(), y.max()], [y.min(), y.max()], 'k--', lw=4)\n",
    "ax.set_xlabel('Measured')\n",
    "ax.set_ylabel('Predicted')\n",
    "plt.show()"
   ]
  },
  {
   "cell_type": "code",
   "execution_count": 125,
   "metadata": {},
   "outputs": [
    {
     "ename": "ValueError",
     "evalue": "Expected 2D array, got 1D array instead:\narray=[2.31].\nReshape your data either using array.reshape(-1, 1) if your data has a single feature or array.reshape(1, -1) if it contains a single sample.",
     "output_type": "error",
     "traceback": [
      "\u001b[0;31m---------------------------------------------------------------------------\u001b[0m",
      "\u001b[0;31mValueError\u001b[0m                                Traceback (most recent call last)",
      "\u001b[0;32m<ipython-input-125-753976338071>\u001b[0m in \u001b[0;36m<module>\u001b[0;34m()\u001b[0m\n\u001b[1;32m     13\u001b[0m \u001b[0mclf\u001b[0m\u001b[0;34m=\u001b[0m\u001b[0mjoblib\u001b[0m\u001b[0;34m.\u001b[0m\u001b[0mload\u001b[0m\u001b[0;34m(\u001b[0m\u001b[0;34m\"./machine_SVR.pkl\"\u001b[0m\u001b[0;34m)\u001b[0m\u001b[0;34m\u001b[0m\u001b[0m\n\u001b[1;32m     14\u001b[0m \u001b[0mclf\u001b[0m\u001b[0;34m.\u001b[0m\u001b[0mfit\u001b[0m\u001b[0;34m(\u001b[0m\u001b[0mboston\u001b[0m\u001b[0;34m.\u001b[0m\u001b[0mdata\u001b[0m\u001b[0;34m,\u001b[0m \u001b[0my\u001b[0m\u001b[0;34m)\u001b[0m\u001b[0;34m\u001b[0m\u001b[0m\n\u001b[0;32m---> 15\u001b[0;31m \u001b[0mpredict_y\u001b[0m\u001b[0;34m=\u001b[0m\u001b[0mclf\u001b[0m\u001b[0;34m.\u001b[0m\u001b[0mpredict\u001b[0m\u001b[0;34m(\u001b[0m\u001b[0mboston\u001b[0m\u001b[0;34m.\u001b[0m\u001b[0mdata\u001b[0m\u001b[0;34m.\u001b[0m\u001b[0mreshape\u001b[0m\u001b[0;34m(\u001b[0m\u001b[0;34m-\u001b[0m\u001b[0;36m1\u001b[0m\u001b[0;34m,\u001b[0m \u001b[0;36m1\u001b[0m\u001b[0;34m)\u001b[0m\u001b[0;34m[\u001b[0m\u001b[0;36m2\u001b[0m\u001b[0;34m]\u001b[0m\u001b[0;34m)\u001b[0m\u001b[0;34m\u001b[0m\u001b[0m\n\u001b[0m\u001b[1;32m     16\u001b[0m \u001b[0mpredict\u001b[0m\u001b[0;34m=\u001b[0m\u001b[0mclf\u001b[0m\u001b[0;34m.\u001b[0m\u001b[0mpredict\u001b[0m\u001b[0;34m(\u001b[0m\u001b[0mX\u001b[0m\u001b[0;34m)\u001b[0m\u001b[0;34m\u001b[0m\u001b[0m\n\u001b[1;32m     17\u001b[0m \u001b[0mclf\u001b[0m\u001b[0;34m.\u001b[0m\u001b[0mscore\u001b[0m\u001b[0;34m(\u001b[0m\u001b[0mX\u001b[0m\u001b[0;34m,\u001b[0m \u001b[0my\u001b[0m\u001b[0;34m)\u001b[0m\u001b[0;34m\u001b[0m\u001b[0m\n",
      "\u001b[0;32m~/anaconda3/lib/python3.6/site-packages/sklearn/svm/base.py\u001b[0m in \u001b[0;36mpredict\u001b[0;34m(self, X)\u001b[0m\n\u001b[1;32m    306\u001b[0m         \u001b[0my_pred\u001b[0m \u001b[0;34m:\u001b[0m \u001b[0marray\u001b[0m\u001b[0;34m,\u001b[0m \u001b[0mshape\u001b[0m \u001b[0;34m(\u001b[0m\u001b[0mn_samples\u001b[0m\u001b[0;34m,\u001b[0m\u001b[0;34m)\u001b[0m\u001b[0;34m\u001b[0m\u001b[0m\n\u001b[1;32m    307\u001b[0m         \"\"\"\n\u001b[0;32m--> 308\u001b[0;31m         \u001b[0mX\u001b[0m \u001b[0;34m=\u001b[0m \u001b[0mself\u001b[0m\u001b[0;34m.\u001b[0m\u001b[0m_validate_for_predict\u001b[0m\u001b[0;34m(\u001b[0m\u001b[0mX\u001b[0m\u001b[0;34m)\u001b[0m\u001b[0;34m\u001b[0m\u001b[0m\n\u001b[0m\u001b[1;32m    309\u001b[0m         \u001b[0mpredict\u001b[0m \u001b[0;34m=\u001b[0m \u001b[0mself\u001b[0m\u001b[0;34m.\u001b[0m\u001b[0m_sparse_predict\u001b[0m \u001b[0;32mif\u001b[0m \u001b[0mself\u001b[0m\u001b[0;34m.\u001b[0m\u001b[0m_sparse\u001b[0m \u001b[0;32melse\u001b[0m \u001b[0mself\u001b[0m\u001b[0;34m.\u001b[0m\u001b[0m_dense_predict\u001b[0m\u001b[0;34m\u001b[0m\u001b[0m\n\u001b[1;32m    310\u001b[0m         \u001b[0;32mreturn\u001b[0m \u001b[0mpredict\u001b[0m\u001b[0;34m(\u001b[0m\u001b[0mX\u001b[0m\u001b[0;34m)\u001b[0m\u001b[0;34m\u001b[0m\u001b[0m\n",
      "\u001b[0;32m~/anaconda3/lib/python3.6/site-packages/sklearn/svm/base.py\u001b[0m in \u001b[0;36m_validate_for_predict\u001b[0;34m(self, X)\u001b[0m\n\u001b[1;32m    437\u001b[0m         \u001b[0mcheck_is_fitted\u001b[0m\u001b[0;34m(\u001b[0m\u001b[0mself\u001b[0m\u001b[0;34m,\u001b[0m \u001b[0;34m'support_'\u001b[0m\u001b[0;34m)\u001b[0m\u001b[0;34m\u001b[0m\u001b[0m\n\u001b[1;32m    438\u001b[0m \u001b[0;34m\u001b[0m\u001b[0m\n\u001b[0;32m--> 439\u001b[0;31m         \u001b[0mX\u001b[0m \u001b[0;34m=\u001b[0m \u001b[0mcheck_array\u001b[0m\u001b[0;34m(\u001b[0m\u001b[0mX\u001b[0m\u001b[0;34m,\u001b[0m \u001b[0maccept_sparse\u001b[0m\u001b[0;34m=\u001b[0m\u001b[0;34m'csr'\u001b[0m\u001b[0;34m,\u001b[0m \u001b[0mdtype\u001b[0m\u001b[0;34m=\u001b[0m\u001b[0mnp\u001b[0m\u001b[0;34m.\u001b[0m\u001b[0mfloat64\u001b[0m\u001b[0;34m,\u001b[0m \u001b[0morder\u001b[0m\u001b[0;34m=\u001b[0m\u001b[0;34m\"C\"\u001b[0m\u001b[0;34m)\u001b[0m\u001b[0;34m\u001b[0m\u001b[0m\n\u001b[0m\u001b[1;32m    440\u001b[0m         \u001b[0;32mif\u001b[0m \u001b[0mself\u001b[0m\u001b[0;34m.\u001b[0m\u001b[0m_sparse\u001b[0m \u001b[0;32mand\u001b[0m \u001b[0;32mnot\u001b[0m \u001b[0msp\u001b[0m\u001b[0;34m.\u001b[0m\u001b[0misspmatrix\u001b[0m\u001b[0;34m(\u001b[0m\u001b[0mX\u001b[0m\u001b[0;34m)\u001b[0m\u001b[0;34m:\u001b[0m\u001b[0;34m\u001b[0m\u001b[0m\n\u001b[1;32m    441\u001b[0m             \u001b[0mX\u001b[0m \u001b[0;34m=\u001b[0m \u001b[0msp\u001b[0m\u001b[0;34m.\u001b[0m\u001b[0mcsr_matrix\u001b[0m\u001b[0;34m(\u001b[0m\u001b[0mX\u001b[0m\u001b[0;34m)\u001b[0m\u001b[0;34m\u001b[0m\u001b[0m\n",
      "\u001b[0;32m~/anaconda3/lib/python3.6/site-packages/sklearn/utils/validation.py\u001b[0m in \u001b[0;36mcheck_array\u001b[0;34m(array, accept_sparse, dtype, order, copy, force_all_finite, ensure_2d, allow_nd, ensure_min_samples, ensure_min_features, warn_on_dtype, estimator)\u001b[0m\n\u001b[1;32m    439\u001b[0m                     \u001b[0;34m\"Reshape your data either using array.reshape(-1, 1) if \"\u001b[0m\u001b[0;34m\u001b[0m\u001b[0m\n\u001b[1;32m    440\u001b[0m                     \u001b[0;34m\"your data has a single feature or array.reshape(1, -1) \"\u001b[0m\u001b[0;34m\u001b[0m\u001b[0m\n\u001b[0;32m--> 441\u001b[0;31m                     \"if it contains a single sample.\".format(array))\n\u001b[0m\u001b[1;32m    442\u001b[0m             \u001b[0marray\u001b[0m \u001b[0;34m=\u001b[0m \u001b[0mnp\u001b[0m\u001b[0;34m.\u001b[0m\u001b[0matleast_2d\u001b[0m\u001b[0;34m(\u001b[0m\u001b[0marray\u001b[0m\u001b[0;34m)\u001b[0m\u001b[0;34m\u001b[0m\u001b[0m\n\u001b[1;32m    443\u001b[0m             \u001b[0;31m# To ensure that array flags are maintained\u001b[0m\u001b[0;34m\u001b[0m\u001b[0;34m\u001b[0m\u001b[0m\n",
      "\u001b[0;31mValueError\u001b[0m: Expected 2D array, got 1D array instead:\narray=[2.31].\nReshape your data either using array.reshape(-1, 1) if your data has a single feature or array.reshape(1, -1) if it contains a single sample."
     ]
    }
   ],
   "source": [
    "%matplotlib inline\n",
    "from sklearn import datasets\n",
    "from sklearn.svm import SVR\n",
    "import matplotlib.pyplot as plt\n",
    "\n",
    "boston = datasets.load_boston()\n",
    "X=boston.data\n",
    "y = boston.target\n",
    "clf = SVR(kernel='rbf', C=1e3, gamma=0.1)\n",
    "clf.fit(X, y)\n",
    "from sklearn.externals import joblib\n",
    "joblib.dump(clf,\"./machine_SVR.pkl\")\n",
    "clf=joblib.load(\"./machine_SVR.pkl\")\n",
    "clf.fit(boston.data, y)\n",
    "predict_y=clf.predict(boston.data[2])\n",
    "predict=clf.predict(X)\n",
    "clf.score(X, y)\n",
    "plt.scatter(predict,y,s=2)\n",
    "plt.plot(predict_y, predict_y, 'ro')\n",
    "plt.plot([y.min(), y.max()], [y.min(), y.max()], 'k--', lw=2)\n",
    "plt.xlabel('Predicted')\n",
    "plt.ylabel('Measured')\n"
   ]
  },
  {
   "cell_type": "code",
   "execution_count": null,
   "metadata": {},
   "outputs": [],
   "source": []
  },
  {
   "cell_type": "code",
   "execution_count": null,
   "metadata": {},
   "outputs": [],
   "source": []
  },
  {
   "cell_type": "code",
   "execution_count": null,
   "metadata": {},
   "outputs": [],
   "source": []
  },
  {
   "cell_type": "code",
   "execution_count": 50,
   "metadata": {},
   "outputs": [
    {
     "data": {
      "image/png": "[encoded data removed]",
      "text/plain": [
       "<Figure size 432x288 with 1 Axes>"
      ]
     },
     "metadata": {},
     "output_type": "display_data"
    }
   ],
   "source": [
    "%matplotlib inline\n",
    "from matplotlib import pyplot as plt\n",
    "x = digits.data[0].reshape((8,8))\n",
    "x\n",
    "\n",
    "plt.imshow(x, cmap=plt.cm.gray_r)\n",
    "plt.axis('off')\n",
    "plt.show()"
   ]
  },
  {
   "cell_type": "code",
   "execution_count": 39,
   "metadata": {},
   "outputs": [
    {
     "data": {
      "text/plain": [
       "array([[ 0.,  0.,  5., 13.,  9.,  1.,  0.,  0.],\n",
       "       [ 0.,  0., 13., 15., 10., 15.,  5.,  0.],\n",
       "       [ 0.,  3., 15.,  2.,  0., 11.,  8.,  0.],\n",
       "       [ 0.,  4., 12.,  0.,  0.,  8.,  8.,  0.],\n",
       "       [ 0.,  5.,  8.,  0.,  0.,  9.,  8.,  0.],\n",
       "       [ 0.,  4., 11.,  0.,  1., 12.,  7.,  0.],\n",
       "       [ 0.,  2., 14.,  5., 10., 12.,  0.,  0.],\n",
       "       [ 0.,  0.,  6., 13., 10.,  0.,  0.,  0.]])"
      ]
     },
     "execution_count": 39,
     "metadata": {},
     "output_type": "execute_result"
    }
   ],
   "source": [
    "digits.images[0]"
   ]
  },
  {
   "cell_type": "code",
   "execution_count": 46,
   "metadata": {},
   "outputs": [
    {
     "data": {
      "image/png": "[encoded data removed]",
      "text/plain": [
       "<Figure size 576x432 with 4 Axes>"
      ]
     },
     "metadata": {},
     "output_type": "display_data"
    }
   ],
   "source": [
    "images_and_labels = list(zip(digits.images, digits.target))  # 每个数据集都与标签对应，使用zip()函数构成字典\n",
    "plt.figure(figsize=(8,6))\n",
    "for index, (image, label) in enumerate(images_and_labels[:4]):\n",
    "    plt.subplot(2, 4, index + 1)\n",
    "    plt.axis('off')\n",
    "    plt.imshow(image, cmap=plt.cm.gray_r, interpolation='nearest')\n",
    "    plt.title('Training:%i' % label)"
   ]
  },
  {
   "cell_type": "code",
   "execution_count": null,
   "metadata": {},
   "outputs": [],
   "source": []
  },
  {
   "cell_type": "code",
   "execution_count": null,
   "metadata": {},
   "outputs": [],
   "source": [
    "class DriveRiskEstimator(BaseEstimator):\n",
    "    def __init__(self):\n",
    "        pass\n",
    "\n",
    "    def get_params(self, deep=True):\n",
    "        return {}\n",
    "\n",
    "    def set_params(self, **params):\n",
    "        return self\n",
    "\n",
    "    def fit(self, x, y):\n",
    "        '''\n",
    "        模型训练\n",
    "        '''\n",
    "        return self\n",
    "\n",
    "    def predict(self, new_samples):\n",
    "        '''\n",
    "        模型预测\n",
    "        '''\n",
    "        result = np.zeros(len(new_samples))\n",
    "        return result\n",
    "\n",
    "    def score(self, x, y_true):\n",
    "      y_pred = self.predict(x)\n",
    "      score = metrics.***(y_true, y_pred)\n",
    "      return score"
   ]
  }
 ],
 "metadata": {
  "kernelspec": {
   "display_name": "Python 3",
   "language": "python",
   "name": "python3"
  },
  "language_info": {
   "codemirror_mode": {
    "name": "ipython",
    "version": 3
   },
   "file_extension": ".py",
   "mimetype": "text/x-python",
   "name": "python",
   "nbconvert_exporter": "python",
   "pygments_lexer": "ipython3",
   "version": "3.6.5"
  }
 },
 "nbformat": 4,
 "nbformat_minor": 2
}
